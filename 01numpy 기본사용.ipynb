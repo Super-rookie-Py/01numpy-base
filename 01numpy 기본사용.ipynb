{
 "cells": [
  {
   "cell_type": "markdown",
   "metadata": {},
   "source": [
    "# 강의 노트\n",
    "### Numpy 연습하기"
   ]
  },
  {
   "cell_type": "code",
   "execution_count": 4,
   "metadata": {},
   "outputs": [],
   "source": [
    "import numpy as np"
   ]
  },
  {
   "cell_type": "code",
   "execution_count": 57,
   "metadata": {},
   "outputs": [
    {
     "name": "stdout",
     "output_type": "stream",
     "text": [
      "3\n",
      "int32\n",
      "3\n",
      "[1, 2, 3]\n",
      "[1 2 3]\n"
     ]
    }
   ],
   "source": [
    "# 리스트 데이터를 배열로 바꾸기\n",
    "\n",
    "list_data = [1,2,3]\n",
    "array = np.array(list_data)\n",
    "\n",
    "print(array.size)\n",
    "print(array.dtype)\n",
    "print(array[2])\n",
    "\n",
    "print(list_data)\n",
    "print(array)"
   ]
  },
  {
   "cell_type": "code",
   "execution_count": 58,
   "metadata": {},
   "outputs": [
    {
     "name": "stdout",
     "output_type": "stream",
     "text": [
      "[1, 2, 3, 1, 2, 3, 1, 2, 3]\n",
      "[3 6 9]\n"
     ]
    }
   ],
   "source": [
    "#리스트와 배열의 차이 (리스트를 곱해보자 !)\n",
    "\n",
    "list_data *= 3\n",
    "array *= 3\n",
    "\n",
    "print(list_data)\n",
    "print(array)"
   ]
  },
  {
   "cell_type": "code",
   "execution_count": 60,
   "metadata": {},
   "outputs": [
    {
     "name": "stdout",
     "output_type": "stream",
     "text": [
      "[0 1 2 3]\n",
      "[[0. 0. 0. 0.]\n",
      " [0. 0. 0. 0.]\n",
      " [0. 0. 0. 0.]\n",
      " [0. 0. 0. 0.]]\n"
     ]
    }
   ],
   "source": [
    "# 0 부터 3까지의 배열 만들기\n",
    "\n",
    "array1 = np.arange(4)      #range 배열버전.\n",
    "print(array1)\n",
    "\n",
    "# 0으로만 이루어진 배열 만들기\n",
    "\n",
    "array2 = np.zeros((4,4), dtype=float)\n",
    "print(array2)"
   ]
  },
  {
   "cell_type": "code",
   "execution_count": 61,
   "metadata": {},
   "outputs": [
    {
     "name": "stdout",
     "output_type": "stream",
     "text": [
      "[['1' '1' '1']\n",
      " ['1' '1' '1']\n",
      " ['1' '1' '1']]\n"
     ]
    }
   ],
   "source": [
    "# 1로 이루어진 배열을 글자형태로 만들기\n",
    "\n",
    "array3 = np.ones((3,3), dtype = 'str')\n",
    "print(array3)"
   ]
  },
  {
   "cell_type": "code",
   "execution_count": 62,
   "metadata": {},
   "outputs": [
    {
     "name": "stdout",
     "output_type": "stream",
     "text": [
      "[[7 3 5]\n",
      " [0 8 8]\n",
      " [3 0 1]]\n"
     ]
    }
   ],
   "source": [
    "# 0~9까지 랜덤한 값의 배열 생성\n",
    "\n",
    "array4 = np.random.randint(0,10, (3,3))\n",
    "print(array4)"
   ]
  },
  {
   "cell_type": "code",
   "execution_count": 63,
   "metadata": {},
   "outputs": [
    {
     "name": "stdout",
     "output_type": "stream",
     "text": [
      "[[ 0.98689922  0.19718704 -0.00449534]\n",
      " [-0.01236614  1.31426951 -1.17793907]\n",
      " [-0.52652881  0.6749429   0.34759479]]\n"
     ]
    }
   ],
   "source": [
    "# 평균이 0이고, 표준편차가 1인 표준 정규를 띄는 배열 \n",
    "\n",
    "array5 = np.random.normal(0, 1, (3, 3))\n",
    "print(array5)"
   ]
  },
  {
   "cell_type": "code",
   "execution_count": 64,
   "metadata": {},
   "outputs": [
    {
     "name": "stdout",
     "output_type": "stream",
     "text": [
      "(6,)\n",
      "[1 2 3 4 5 6]\n"
     ]
    }
   ],
   "source": [
    "#배열 가로 축 합치기\n",
    "\n",
    "array1 = np.array([1, 2, 3])\n",
    "array2 = np.array([4, 5, 6])\n",
    "array3 = np.concatenate([array1, array2])\n",
    "\n",
    "print(array3.shape)\n",
    "print(array3)\n"
   ]
  },
  {
   "cell_type": "code",
   "execution_count": 66,
   "metadata": {},
   "outputs": [
    {
     "name": "stdout",
     "output_type": "stream",
     "text": [
      "[1 2 3 4]\n",
      "[[1 2]\n",
      " [3 4]]\n"
     ]
    }
   ],
   "source": [
    "#배열 형태 바꾸기\n",
    "\n",
    "array1 = np.array([1, 2, 3, 4])\n",
    "array2 = array1.reshape(2, 2)\n",
    "\n",
    "print(array1)\n",
    "print(array2)"
   ]
  },
  {
   "cell_type": "code",
   "execution_count": 69,
   "metadata": {},
   "outputs": [
    {
     "name": "stdout",
     "output_type": "stream",
     "text": [
      "[[0 1 2 3]]\n",
      "[[0 1 2 3]\n",
      " [4 5 6 7]]\n",
      "[[0 1 2 3]\n",
      " [0 1 2 3]\n",
      " [4 5 6 7]]\n"
     ]
    }
   ],
   "source": [
    "# 배열 세로축으로 합치기\n",
    "\n",
    "array1 = np.arange(4).reshape(1, 4)\n",
    "array2 = np.arange(8).reshape(2, 4)\n",
    "\n",
    "print(array1)\n",
    "print(array2)\n",
    "\n",
    "array3 = np.concatenate([array1, array2], axis = 0)\n",
    "print(array3)"
   ]
  },
  {
   "cell_type": "markdown",
   "metadata": {},
   "source": [
    "### axis 0은 1차원은로 vector단위(행)을 설정하고 (행개념의 x축 개념)\n",
    "### axis 1은 2차원으로 matrix 단위(행렬)을 정의하며 (열이라는 개념이 추가됨.y축 개념)\n",
    "### axis 2는 3차원으로 tensor 라고 표현한다. (z축 개념.)"
   ]
  },
  {
   "cell_type": "code",
   "execution_count": 79,
   "metadata": {},
   "outputs": [
    {
     "name": "stdout",
     "output_type": "stream",
     "text": [
      "(2, 2)\n",
      "(2, 2)\n",
      "[[0 1]\n",
      " [4 5]]\n"
     ]
    }
   ],
   "source": [
    "# 배열 나누기\n",
    "\n",
    "array = np.arange(8).reshape(2, 4)\n",
    "left, right = np.split(array, [2], axis= 1)\n",
    "print(left.shape)\n",
    "print(right.shape)\n",
    "print(left)"
   ]
  }
 ],
 "metadata": {
  "kernelspec": {
   "display_name": "Python 3",
   "language": "python",
   "name": "python3"
  },
  "language_info": {
   "codemirror_mode": {
    "name": "ipython",
    "version": 3
   },
   "file_extension": ".py",
   "mimetype": "text/x-python",
   "name": "python",
   "nbconvert_exporter": "python",
   "pygments_lexer": "ipython3",
   "version": "3.7.5"
  }
 },
 "nbformat": 4,
 "nbformat_minor": 2
}
